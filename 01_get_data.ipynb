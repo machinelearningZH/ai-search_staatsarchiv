{
 "cells": [
  {
   "attachments": {},
   "cell_type": "markdown",
   "id": "5b7f59fc",
   "metadata": {},
   "source": [
    "# Download data from sources"
   ]
  },
  {
   "attachments": {},
   "cell_type": "markdown",
   "id": "eefc59fe-95a2-4855-a991-6eb9887c14f6",
   "metadata": {
    "tags": []
   },
   "source": [
    "**Imports**"
   ]
  },
  {
   "cell_type": "code",
   "execution_count": 1,
   "id": "13039229",
   "metadata": {},
   "outputs": [],
   "source": [
    "import os\n",
    "import requests\n",
    "import zipfile\n",
    "from tqdm.notebook import tqdm\n",
    "from dotenv import load_dotenv"
   ]
  },
  {
   "cell_type": "code",
   "execution_count": 2,
   "id": "de128eb3",
   "metadata": {},
   "outputs": [],
   "source": [
    "load_dotenv()\n",
    "\n",
    "DATA_INPUT = os.getenv(\"DATA_INPUT\")\n",
    "\n",
    "DATA_INPUT_KRP = os.getenv(\"DATA_INPUT_KRP\")\n",
    "DATA_INPUT_RRB = os.getenv(\"DATA_INPUT_RRB\")\n",
    "DATA_INPUT_OS = os.getenv(\"DATA_INPUT_OS\")\n",
    "DATA_INPUT_ABl = os.getenv(\"DATA_INPUT_ABl\")\n",
    "\n",
    "BASE_FOLDERS = [\n",
    "    DATA_INPUT,\n",
    "    DATA_INPUT_KRP,\n",
    "    DATA_INPUT_RRB,\n",
    "    DATA_INPUT_OS,\n",
    "    DATA_INPUT_ABl,\n",
    "]\n",
    "\n",
    "KRP_SOURCE_1803 = os.getenv(\"KRP_SOURCE_1803\")\n",
    "KRP_SOURCE_1899 = os.getenv(\"KRP_SOURCE_1899\")\n",
    "\n",
    "RRB_SOURCE_1803 = os.getenv(\"RRB_SOURCE_1803\")\n",
    "RRB_SOURCE_1887 = os.getenv(\"RRB_SOURCE_1887\")\n",
    "RRB_SOURCE_1903 = os.getenv(\"RRB_SOURCE_1903\")\n",
    "\n",
    "OS_SOURCE_1803 = os.getenv(\"OS_SOURCE_1803\")\n",
    "\n",
    "ABl_SOURCE_1980 = os.getenv(\"ABl_SOURCE_1980\")"
   ]
  },
  {
   "attachments": {},
   "cell_type": "markdown",
   "id": "c53fa932-ae76-4509-b339-d8f7e45db481",
   "metadata": {},
   "source": [
    "### Setup folders"
   ]
  },
  {
   "cell_type": "code",
   "execution_count": 3,
   "id": "b3847972",
   "metadata": {},
   "outputs": [],
   "source": [
    "for folder in BASE_FOLDERS:\n",
    "    if not os.path.exists(folder):\n",
    "        os.makedirs(folder)\n",
    "        with open(f\"{folder}/_placeholder.md\", \"w\") as f:\n",
    "            f.write(\n",
    "                \"Placeholder file that makes sure the folder structure is uploaded to GitHub.\\n\"\n",
    "            )"
   ]
  },
  {
   "cell_type": "markdown",
   "id": "9af448c5",
   "metadata": {},
   "source": [
    "### Download and unzip data"
   ]
  },
  {
   "cell_type": "code",
   "execution_count": 4,
   "id": "cf18c7dd-ba4d-41de-8e9a-02c44bc6eac6",
   "metadata": {},
   "outputs": [],
   "source": [
    "source_data_dict = {\n",
    "    KRP_SOURCE_1803: DATA_INPUT_KRP,\n",
    "    KRP_SOURCE_1899: DATA_INPUT_KRP,\n",
    "    RRB_SOURCE_1803: DATA_INPUT_RRB,\n",
    "    RRB_SOURCE_1887: DATA_INPUT_RRB,\n",
    "    RRB_SOURCE_1903: DATA_INPUT_RRB,\n",
    "    OS_SOURCE_1803: DATA_INPUT_OS,\n",
    "    ABl_SOURCE_1980: DATA_INPUT_ABl,\n",
    "}"
   ]
  },
  {
   "cell_type": "code",
   "execution_count": null,
   "id": "1c6c1844",
   "metadata": {},
   "outputs": [],
   "source": [
    "for source_url, data_folder in tqdm(source_data_dict.items()):\n",
    "    print(f\"Downloading: {source_url}\\nto: {data_folder}\")\n",
    "    print()\n",
    "    raw = requests.get(source_url)\n",
    "    if raw.status_code == 200:\n",
    "        with open(f\"{data_folder}/tmp.zip\", \"wb\") as f:\n",
    "            f.write(raw.content)\n",
    "    else:\n",
    "        print(\"Error downloading file\")\n",
    "\n",
    "    with zipfile.ZipFile(f\"{data_folder}/tmp.zip\", \"r\") as zip_ref:\n",
    "        zip_ref.extractall(f\"{data_folder}\")\n",
    "\n",
    "    os.remove(f\"{data_folder}/tmp.zip\")"
   ]
  }
 ],
 "metadata": {
  "kernelspec": {
   "display_name": "Python 3 (ipykernel)",
   "language": "python",
   "name": "python3"
  },
  "language_info": {
   "codemirror_mode": {
    "name": "ipython",
    "version": 3
   },
   "file_extension": ".py",
   "mimetype": "text/x-python",
   "name": "python",
   "nbconvert_exporter": "python",
   "pygments_lexer": "ipython3",
   "version": "3.9.16"
  }
 },
 "nbformat": 4,
 "nbformat_minor": 5
}
