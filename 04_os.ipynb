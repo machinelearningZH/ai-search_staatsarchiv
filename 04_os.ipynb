{
 "cells": [
  {
   "attachments": {},
   "cell_type": "markdown",
   "id": "5b7f59fc",
   "metadata": {},
   "source": [
    "# Process Gesetzessammlung"
   ]
  },
  {
   "attachments": {},
   "cell_type": "markdown",
   "id": "eefc59fe-95a2-4855-a991-6eb9887c14f6",
   "metadata": {
    "tags": []
   },
   "source": [
    "**Imports**"
   ]
  },
  {
   "cell_type": "code",
   "execution_count": 1,
   "id": "9d89a2f2-4416-437d-870e-85276708232d",
   "metadata": {},
   "outputs": [
    {
     "name": "stdout",
     "output_type": "stream",
     "text": [
      "INFO: Pandarallel will run on 8 workers.\n",
      "INFO: Pandarallel will use standard multiprocessing data transfer (pipe) to transfer data between the main process and workers.\n"
     ]
    }
   ],
   "source": [
    "import os\n",
    "import pandas as pd\n",
    "from pandarallel import pandarallel\n",
    "from dotenv import load_dotenv\n",
    "\n",
    "pd.options.mode.chained_assignment = None\n",
    "pd.options.display.max_rows = 500\n",
    "pd.options.display.max_seq_items = 500\n",
    "pandarallel.initialize(progress_bar=False)"
   ]
  },
  {
   "cell_type": "code",
   "execution_count": 2,
   "id": "89f05451",
   "metadata": {},
   "outputs": [],
   "source": [
    "from staatsarchiv_utils import read_XML_files\n",
    "from staatsarchiv_utils import parse_XML_files\n",
    "from staatsarchiv_utils import fix_missing_dates\n",
    "from staatsarchiv_utils import add_missing_month_and_day_to_dates\n",
    "from staatsarchiv_utils import parse_dates\n",
    "from staatsarchiv_utils import clean_identifiers\n",
    "from staatsarchiv_utils import generic_text_cleaning"
   ]
  },
  {
   "cell_type": "code",
   "execution_count": 3,
   "id": "976e4bf7",
   "metadata": {},
   "outputs": [],
   "source": [
    "load_dotenv()\n",
    "\n",
    "DATA_INPUT_OS = os.getenv(\"DATA_INPUT_OS\")\n",
    "RAW_OUTPUT_OS = os.getenv(\"RAW_OUTPUT_OS\")\n",
    "PREP_OUTPUT_OS = os.getenv(\"PREP_OUTPUT_OS\")"
   ]
  },
  {
   "attachments": {},
   "cell_type": "markdown",
   "id": "c53fa932-ae76-4509-b339-d8f7e45db481",
   "metadata": {},
   "source": [
    "**Prepare data**"
   ]
  },
  {
   "cell_type": "code",
   "execution_count": 4,
   "id": "50c7bd9b-b770-46e8-8715-f0d760ea6575",
   "metadata": {},
   "outputs": [
    {
     "name": "stdout",
     "output_type": "stream",
     "text": [
      "9,527 files found.\n"
     ]
    },
    {
     "name": "stderr",
     "output_type": "stream",
     "text": [
      "100%|██████████| 9527/9527 [00:28<00:00, 333.15it/s]\n"
     ]
    }
   ],
   "source": [
    "file_paths = read_XML_files(DATA_INPUT_OS)\n",
    "df = parse_XML_files(file_paths)\n",
    "df.to_parquet(RAW_OUTPUT_OS)"
   ]
  },
  {
   "cell_type": "code",
   "execution_count": 5,
   "id": "fa40c65c",
   "metadata": {},
   "outputs": [
    {
     "name": "stdout",
     "output_type": "stream",
     "text": [
      "<class 'pandas.core.frame.DataFrame'>\n",
      "RangeIndex: 9527 entries, 0 to 9526\n",
      "Data columns (total 11 columns):\n",
      " #   Column     Non-Null Count  Dtype \n",
      "---  ------     --------------  ----- \n",
      " 0   path       9527 non-null   object\n",
      " 1   date_when  9250 non-null   object\n",
      " 2   date_from  277 non-null    object\n",
      " 3   date_to    277 non-null    object\n",
      " 4   date_text  9527 non-null   object\n",
      " 5   ident      9527 non-null   object\n",
      " 6   ref        9527 non-null   object\n",
      " 7   title      9527 non-null   object\n",
      " 8   text       9527 non-null   object\n",
      " 9   filename   9527 non-null   object\n",
      " 10  new_link   9527 non-null   object\n",
      "dtypes: object(11)\n",
      "memory usage: 104.1 MB\n"
     ]
    }
   ],
   "source": [
    "df = pd.read_parquet(RAW_OUTPUT_OS)\n",
    "\n",
    "# TODO: Here the correct url of zszh has to be set\n",
    "link_prolog = \"https://www.zentraleserien.zh.ch/os/\"\n",
    "df[\"new_link\"] = df.filename.apply(lambda x: link_prolog + x.replace(\".xml\", \"\"))\n",
    "assert df.new_link.nunique() == len(df)\n",
    "\n",
    "df.info(memory_usage=\"deep\")"
   ]
  },
  {
   "cell_type": "code",
   "execution_count": 6,
   "id": "adcbec20",
   "metadata": {},
   "outputs": [
    {
     "data": {
      "text/html": [
       "<div>\n",
       "<style scoped>\n",
       "    .dataframe tbody tr th:only-of-type {\n",
       "        vertical-align: middle;\n",
       "    }\n",
       "\n",
       "    .dataframe tbody tr th {\n",
       "        vertical-align: top;\n",
       "    }\n",
       "\n",
       "    .dataframe thead th {\n",
       "        text-align: right;\n",
       "    }\n",
       "</style>\n",
       "<table border=\"1\" class=\"dataframe\">\n",
       "  <thead>\n",
       "    <tr style=\"text-align: right;\">\n",
       "      <th></th>\n",
       "      <th>9283</th>\n",
       "      <th>953</th>\n",
       "      <th>1907</th>\n",
       "    </tr>\n",
       "  </thead>\n",
       "  <tbody>\n",
       "    <tr>\n",
       "      <th>path</th>\n",
       "      <td>_01_data-input/OS/STAZH_OGD_eOSZH_V4_NER/OS_XM...</td>\n",
       "      <td>_01_data-input/OS/STAZH_OGD_eOSZH_V4_NER/OS_XM...</td>\n",
       "      <td>_01_data-input/OS/STAZH_OGD_eOSZH_V4_NER/OS_XM...</td>\n",
       "    </tr>\n",
       "    <tr>\n",
       "      <th>date_when</th>\n",
       "      <td>1973-11-05</td>\n",
       "      <td>1851-06-24</td>\n",
       "      <td>1857-08-05</td>\n",
       "    </tr>\n",
       "    <tr>\n",
       "      <th>date_from</th>\n",
       "      <td>None</td>\n",
       "      <td>None</td>\n",
       "      <td>None</td>\n",
       "    </tr>\n",
       "    <tr>\n",
       "      <th>date_to</th>\n",
       "      <td>None</td>\n",
       "      <td>None</td>\n",
       "      <td>None</td>\n",
       "    </tr>\n",
       "    <tr>\n",
       "      <th>date_text</th>\n",
       "      <td>05.11.1973</td>\n",
       "      <td>24.06.1851</td>\n",
       "      <td>05.08.1857</td>\n",
       "    </tr>\n",
       "    <tr>\n",
       "      <th>ident</th>\n",
       "      <td>StAZH OS 44 (S. 952)</td>\n",
       "      <td>StAZH OS 20, Suppl. 2 (S. 48, Eintrag 2)</td>\n",
       "      <td>StAZH OS 10 (S. 429-433)</td>\n",
       "    </tr>\n",
       "    <tr>\n",
       "      <th>ref</th>\n",
       "      <td>https://suche.staatsarchiv.djiktzh.ch/detail.a...</td>\n",
       "      <td>https://suche.staatsarchiv.djiktzh.ch/detail.a...</td>\n",
       "      <td>https://suche.staatsarchiv.djiktzh.ch/detail.a...</td>\n",
       "    </tr>\n",
       "    <tr>\n",
       "      <th>title</th>\n",
       "      <td>Beschluss des Kantonsrates über die Erhöhung d...</td>\n",
       "      <td>15. Gesetz betr. die Wahl, Amtsdauer und Entsc...</td>\n",
       "      <td>Bundesbeschluß betreffend die Eisenbahn von Zü...</td>\n",
       "    </tr>\n",
       "    <tr>\n",
       "      <th>text</th>\n",
       "      <td>Der Kantonsrat, nach Einsichtnahme in einen An...</td>\n",
       "      <td>1 Die zwei Mitglieder, welche der Kanton Züric...</td>\n",
       "      <td>Die Bundesversammlung der schweizerischen Eidg...</td>\n",
       "    </tr>\n",
       "    <tr>\n",
       "      <th>filename</th>\n",
       "      <td>OS_44__S__952__t.xml</td>\n",
       "      <td>OS_20__Suppl__2__S__48__Eintrag_2__t.xml</td>\n",
       "      <td>OS_10__S__429-433__t.xml</td>\n",
       "    </tr>\n",
       "    <tr>\n",
       "      <th>new_link</th>\n",
       "      <td>https://www.zentraleserien.zh.ch/os/OS_44__S__...</td>\n",
       "      <td>https://www.zentraleserien.zh.ch/os/OS_20__Sup...</td>\n",
       "      <td>https://www.zentraleserien.zh.ch/os/OS_10__S__...</td>\n",
       "    </tr>\n",
       "  </tbody>\n",
       "</table>\n",
       "</div>"
      ],
      "text/plain": [
       "                                                        9283  \\\n",
       "path       _01_data-input/OS/STAZH_OGD_eOSZH_V4_NER/OS_XM...   \n",
       "date_when                                         1973-11-05   \n",
       "date_from                                               None   \n",
       "date_to                                                 None   \n",
       "date_text                                         05.11.1973   \n",
       "ident                                   StAZH OS 44 (S. 952)   \n",
       "ref        https://suche.staatsarchiv.djiktzh.ch/detail.a...   \n",
       "title      Beschluss des Kantonsrates über die Erhöhung d...   \n",
       "text       Der Kantonsrat, nach Einsichtnahme in einen An...   \n",
       "filename                                OS_44__S__952__t.xml   \n",
       "new_link   https://www.zentraleserien.zh.ch/os/OS_44__S__...   \n",
       "\n",
       "                                                        953   \\\n",
       "path       _01_data-input/OS/STAZH_OGD_eOSZH_V4_NER/OS_XM...   \n",
       "date_when                                         1851-06-24   \n",
       "date_from                                               None   \n",
       "date_to                                                 None   \n",
       "date_text                                         24.06.1851   \n",
       "ident               StAZH OS 20, Suppl. 2 (S. 48, Eintrag 2)   \n",
       "ref        https://suche.staatsarchiv.djiktzh.ch/detail.a...   \n",
       "title      15. Gesetz betr. die Wahl, Amtsdauer und Entsc...   \n",
       "text       1 Die zwei Mitglieder, welche der Kanton Züric...   \n",
       "filename            OS_20__Suppl__2__S__48__Eintrag_2__t.xml   \n",
       "new_link   https://www.zentraleserien.zh.ch/os/OS_20__Sup...   \n",
       "\n",
       "                                                        1907  \n",
       "path       _01_data-input/OS/STAZH_OGD_eOSZH_V4_NER/OS_XM...  \n",
       "date_when                                         1857-08-05  \n",
       "date_from                                               None  \n",
       "date_to                                                 None  \n",
       "date_text                                         05.08.1857  \n",
       "ident                               StAZH OS 10 (S. 429-433)  \n",
       "ref        https://suche.staatsarchiv.djiktzh.ch/detail.a...  \n",
       "title      Bundesbeschluß betreffend die Eisenbahn von Zü...  \n",
       "text       Die Bundesversammlung der schweizerischen Eidg...  \n",
       "filename                            OS_10__S__429-433__t.xml  \n",
       "new_link   https://www.zentraleserien.zh.ch/os/OS_10__S__...  "
      ]
     },
     "execution_count": 6,
     "metadata": {},
     "output_type": "execute_result"
    }
   ],
   "source": [
    "df.sample(3).T"
   ]
  },
  {
   "cell_type": "code",
   "execution_count": 7,
   "id": "521c1aaf",
   "metadata": {},
   "outputs": [
    {
     "name": "stdout",
     "output_type": "stream",
     "text": [
      "1803-01-01 00:00:00 1998-12-23 00:00:00\n"
     ]
    }
   ],
   "source": [
    "# Fix missing dates: Feature `date_when` is crucial. If this feature is missing, we agreed to fill in with the date from `date_from`.\n",
    "# Add missing month and day to dates: Some dates are missing the month and day.\n",
    "# Clean identifiers: Several ident values contain line breaks and multiple spaces. We agredd to remove these programmatically.\n",
    "\n",
    "df = (\n",
    "    df.pipe(fix_missing_dates)\n",
    "    .pipe(add_missing_month_and_day_to_dates)\n",
    "    .pipe(parse_dates)\n",
    "    .pipe(clean_identifiers)\n",
    "    .assign(year=df.date_when.dt.year)\n",
    "    .assign(identifier=df.index.astype(int))\n",
    "    .rename({\"new_link\": \"link\"}, axis=1)  # TODO: Rename here (new_link : link)\n",
    "    .rename({\"date_when\": \"date\"}, axis=1)\n",
    "    .rename({\"ident\": \"stazh_ident\"}, axis=1)\n",
    ")\n",
    "\n",
    "# Sanity checks.\n",
    "assert df.date.isna().sum() == 0\n",
    "tmp = pd.to_datetime(df.date, errors=\"coerce\", format=\"%Y-%m-%d\")\n",
    "assert len(tmp[tmp.isna()].index) == 0\n",
    "assert df.stazh_ident.str.contains(\"\\n\").sum() == 0\n",
    "assert df.identifier.nunique() == len(df)\n",
    "print(df.date.min(), df.date.max())"
   ]
  },
  {
   "cell_type": "code",
   "execution_count": 8,
   "id": "f9e00ecc",
   "metadata": {},
   "outputs": [
    {
     "name": "stdout",
     "output_type": "stream",
     "text": [
      "<class 'pandas.core.frame.DataFrame'>\n",
      "RangeIndex: 9527 entries, 0 to 9526\n",
      "Data columns (total 8 columns):\n",
      " #   Column       Non-Null Count  Dtype         \n",
      "---  ------       --------------  -----         \n",
      " 0   identifier   9527 non-null   object        \n",
      " 1   date         9527 non-null   datetime64[ns]\n",
      " 2   year         9527 non-null   int32         \n",
      " 3   title        9527 non-null   object        \n",
      " 4   text         9527 non-null   object        \n",
      " 5   link         9527 non-null   object        \n",
      " 6   stazh_ident  9527 non-null   object        \n",
      " 7   ref          9527 non-null   object        \n",
      "dtypes: datetime64[ns](1), int32(1), object(6)\n",
      "memory usage: 155.5 MB\n"
     ]
    }
   ],
   "source": [
    "df.identifier = [\"os_\" + str(x) for x in df.identifier]\n",
    "\n",
    "# Generic text cleaning.\n",
    "df.title = df.title.parallel_map(generic_text_cleaning)\n",
    "df.text = df.text.parallel_map(generic_text_cleaning)\n",
    "\n",
    "# Reduce to relevant columns and save to disk.\n",
    "cols = [\"identifier\", \"date\", \"year\", \"title\", \"text\", \"link\", \"stazh_ident\", \"ref\"]\n",
    "df = df[cols]\n",
    "df.to_parquet(PREP_OUTPUT_OS)\n",
    "df.info(memory_usage=\"deep\")"
   ]
  }
 ],
 "metadata": {
  "kernelspec": {
   "display_name": "Python 3 (ipykernel)",
   "language": "python",
   "name": "python3"
  },
  "language_info": {
   "codemirror_mode": {
    "name": "ipython",
    "version": 3
   },
   "file_extension": ".py",
   "mimetype": "text/x-python",
   "name": "python",
   "nbconvert_exporter": "python",
   "pygments_lexer": "ipython3",
   "version": "3.9.16"
  }
 },
 "nbformat": 4,
 "nbformat_minor": 5
}
