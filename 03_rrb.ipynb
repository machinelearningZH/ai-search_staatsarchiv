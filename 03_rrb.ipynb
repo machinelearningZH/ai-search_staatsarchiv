{
 "cells": [
  {
   "attachments": {},
   "cell_type": "markdown",
   "id": "9e45173e",
   "metadata": {},
   "source": [
    "# Process Regierungsratsbeschlüsse"
   ]
  },
  {
   "attachments": {},
   "cell_type": "markdown",
   "id": "eefc59fe-95a2-4855-a991-6eb9887c14f6",
   "metadata": {
    "tags": []
   },
   "source": [
    "**Imports**"
   ]
  },
  {
   "cell_type": "code",
   "execution_count": 2,
   "id": "9d89a2f2-4416-437d-870e-85276708232d",
   "metadata": {},
   "outputs": [
    {
     "name": "stdout",
     "output_type": "stream",
     "text": [
      "INFO: Pandarallel will run on 8 workers.\n",
      "INFO: Pandarallel will use standard multiprocessing data transfer (pipe) to transfer data between the main process and workers.\n"
     ]
    }
   ],
   "source": [
    "import os\n",
    "import pandas as pd\n",
    "from pandarallel import pandarallel\n",
    "from dotenv import load_dotenv\n",
    "\n",
    "pd.options.mode.chained_assignment = None\n",
    "pd.options.display.max_rows = 500\n",
    "pd.options.display.max_seq_items = 500\n",
    "pandarallel.initialize(progress_bar=False)"
   ]
  },
  {
   "cell_type": "code",
   "execution_count": 3,
   "id": "032f871b-1f21-499c-aebb-1e4a8528dbeb",
   "metadata": {},
   "outputs": [],
   "source": [
    "from staatsarchiv_utils import read_XML_files\n",
    "from staatsarchiv_utils import parse_XML_files\n",
    "from staatsarchiv_utils import fix_missing_dates\n",
    "from staatsarchiv_utils import fix_incomplete_dates\n",
    "from staatsarchiv_utils import parse_dates\n",
    "from staatsarchiv_utils import clean_identifiers\n",
    "from staatsarchiv_utils import generic_text_cleaning"
   ]
  },
  {
   "cell_type": "code",
   "execution_count": 4,
   "id": "89f05451",
   "metadata": {},
   "outputs": [],
   "source": [
    "load_dotenv()\n",
    "\n",
    "DATA_INPUT_RRB = os.getenv(\"DATA_INPUT_RRB\")\n",
    "RAW_OUTPUT_RRB = os.getenv(\"RAW_OUTPUT_RRB\")\n",
    "PREP_OUTPUT_RRB = os.getenv(\"PREP_OUTPUT_RRB\")"
   ]
  },
  {
   "attachments": {},
   "cell_type": "markdown",
   "id": "c53fa932-ae76-4509-b339-d8f7e45db481",
   "metadata": {},
   "source": [
    "**Prepare data**"
   ]
  },
  {
   "cell_type": "code",
   "execution_count": 5,
   "id": "ede30284",
   "metadata": {},
   "outputs": [
    {
     "name": "stdout",
     "output_type": "stream",
     "text": [
      "479,146 files found.\n"
     ]
    },
    {
     "name": "stderr",
     "output_type": "stream",
     "text": [
      "100%|██████████| 479146/479146 [13:42<00:00, 582.73it/s] \n"
     ]
    }
   ],
   "source": [
    "file_paths = read_XML_files(DATA_INPUT_RRB, remove_memberlists=True)\n",
    "df = parse_XML_files(file_paths)  # 9min\n",
    "df.to_parquet(RAW_OUTPUT_RRB)"
   ]
  },
  {
   "cell_type": "code",
   "execution_count": 6,
   "id": "fa40c65c",
   "metadata": {},
   "outputs": [
    {
     "name": "stdout",
     "output_type": "stream",
     "text": [
      "<class 'pandas.core.frame.DataFrame'>\n",
      "RangeIndex: 479146 entries, 0 to 479145\n",
      "Data columns (total 11 columns):\n",
      " #   Column     Non-Null Count   Dtype \n",
      "---  ------     --------------   ----- \n",
      " 0   path       479146 non-null  object\n",
      " 1   date_when  479144 non-null  object\n",
      " 2   date_from  2 non-null       object\n",
      " 3   date_to    2 non-null       object\n",
      " 4   date_text  479146 non-null  object\n",
      " 5   ident      479146 non-null  object\n",
      " 6   ref        479146 non-null  object\n",
      " 7   title      479146 non-null  object\n",
      " 8   text       479146 non-null  object\n",
      " 9   filename   479146 non-null  object\n",
      " 10  new_link   479146 non-null  object\n",
      "dtypes: object(11)\n",
      "memory usage: 1.8 GB\n"
     ]
    }
   ],
   "source": [
    "df = pd.read_parquet(RAW_OUTPUT_RRB)\n",
    "\n",
    "# TODO: Here the correct URL of ZSZH has to be set.\n",
    "link_prolog = \"https://www.zentraleserien.zh.ch/rrb/\"\n",
    "df[\"new_link\"] = df.filename.apply(lambda x: link_prolog + x.replace(\".xml\", \"\"))\n",
    "assert df.new_link.nunique() == len(df)\n",
    "\n",
    "df.info(memory_usage=\"deep\")"
   ]
  },
  {
   "cell_type": "code",
   "execution_count": 7,
   "id": "adcbec20",
   "metadata": {},
   "outputs": [
    {
     "data": {
      "text/html": [
       "<div>\n",
       "<style scoped>\n",
       "    .dataframe tbody tr th:only-of-type {\n",
       "        vertical-align: middle;\n",
       "    }\n",
       "\n",
       "    .dataframe tbody tr th {\n",
       "        vertical-align: top;\n",
       "    }\n",
       "\n",
       "    .dataframe thead th {\n",
       "        text-align: right;\n",
       "    }\n",
       "</style>\n",
       "<table border=\"1\" class=\"dataframe\">\n",
       "  <thead>\n",
       "    <tr style=\"text-align: right;\">\n",
       "      <th></th>\n",
       "      <th>path</th>\n",
       "      <th>date_when</th>\n",
       "      <th>date_from</th>\n",
       "      <th>date_to</th>\n",
       "      <th>date_text</th>\n",
       "      <th>ident</th>\n",
       "      <th>ref</th>\n",
       "      <th>title</th>\n",
       "      <th>text</th>\n",
       "      <th>filename</th>\n",
       "      <th>new_link</th>\n",
       "    </tr>\n",
       "  </thead>\n",
       "  <tbody>\n",
       "    <tr>\n",
       "      <th>469657</th>\n",
       "      <td>_01_data-input/RRB/TKR_RRB_Transkripte_XML_NER...</td>\n",
       "      <td>1848-04-05</td>\n",
       "      <td>None</td>\n",
       "      <td>None</td>\n",
       "      <td>05.04.1848</td>\n",
       "      <td>StAZH MM 2.100 RRB 1848/0476</td>\n",
       "      <td>https://suche.staatsarchiv.djiktzh.ch/detail.a...</td>\n",
       "      <td>Note der preuß. Gesandtschaft betr. angebliche...</td>\n",
       "      <td>Von den nachstehenden Schreiben ist lediglich ...</td>\n",
       "      <td>MM_2_100_RRB_1848_0476.xml</td>\n",
       "      <td>https://www.zentraleserien.zh.ch/rrb/MM_2_100_...</td>\n",
       "    </tr>\n",
       "    <tr>\n",
       "      <th>388669</th>\n",
       "      <td>_01_data-input/RRB/TKR_RRB_Transkripte_XML_NER...</td>\n",
       "      <td>1881-03-19</td>\n",
       "      <td>None</td>\n",
       "      <td>None</td>\n",
       "      <td>19.03.1881</td>\n",
       "      <td>StAZH MM 2.231 RRB 1881/0488</td>\n",
       "      <td>https://suche.staatsarchiv.djiktzh.ch/detail.a...</td>\n",
       "      <td>Kantonalbank; Benutzung des Amtsblattes.</td>\n",
       "      <td>Der Regierungsrath hat, in Sachen der Zürcher ...</td>\n",
       "      <td>MM_2_231_RRB_1881_0488.xml</td>\n",
       "      <td>https://www.zentraleserien.zh.ch/rrb/MM_2_231_...</td>\n",
       "    </tr>\n",
       "    <tr>\n",
       "      <th>246290</th>\n",
       "      <td>_01_data-input/RRB/TKR_RRB_1903_1995_OCR _XML_...</td>\n",
       "      <td>1984-08-08</td>\n",
       "      <td>None</td>\n",
       "      <td>None</td>\n",
       "      <td>08.08.1984</td>\n",
       "      <td>StAZH MM 3.172 RRB 1984/2999</td>\n",
       "      <td>https://suche.staatsarchiv.djiktzh.ch/detail.a...</td>\n",
       "      <td>Universität Zürich-Irchel, zweite Bauetappe.</td>\n",
       "      <td>Mit Kantonsratsbeschluss vom 7. November 1977 ...</td>\n",
       "      <td>MM_3_172_RRB_1984_2999_t.xml</td>\n",
       "      <td>https://www.zentraleserien.zh.ch/rrb/MM_3_172_...</td>\n",
       "    </tr>\n",
       "    <tr>\n",
       "      <th>375461</th>\n",
       "      <td>_01_data-input/RRB/TKR_RRB_Transkripte_XML_NER...</td>\n",
       "      <td>1833-02-09</td>\n",
       "      <td>None</td>\n",
       "      <td>None</td>\n",
       "      <td>09.02.1833</td>\n",
       "      <td>StAZH MM 2.10 RRB 1833/0231</td>\n",
       "      <td>https://suche.staatsarchiv.djiktzh.ch/detail.a...</td>\n",
       "      <td>Bestätiung mehrerer von dem Erziehungsrathe ge...</td>\n",
       "      <td>Nach Anhörung eines von dem Erziehungsrathe mi...</td>\n",
       "      <td>MM_2_10_RRB_1833_0231.xml</td>\n",
       "      <td>https://www.zentraleserien.zh.ch/rrb/MM_2_10_R...</td>\n",
       "    </tr>\n",
       "  </tbody>\n",
       "</table>\n",
       "</div>"
      ],
      "text/plain": [
       "                                                     path   date_when  \\\n",
       "469657  _01_data-input/RRB/TKR_RRB_Transkripte_XML_NER...  1848-04-05   \n",
       "388669  _01_data-input/RRB/TKR_RRB_Transkripte_XML_NER...  1881-03-19   \n",
       "246290  _01_data-input/RRB/TKR_RRB_1903_1995_OCR _XML_...  1984-08-08   \n",
       "375461  _01_data-input/RRB/TKR_RRB_Transkripte_XML_NER...  1833-02-09   \n",
       "\n",
       "       date_from date_to   date_text                         ident  \\\n",
       "469657      None    None  05.04.1848  StAZH MM 2.100 RRB 1848/0476   \n",
       "388669      None    None  19.03.1881  StAZH MM 2.231 RRB 1881/0488   \n",
       "246290      None    None  08.08.1984  StAZH MM 3.172 RRB 1984/2999   \n",
       "375461      None    None  09.02.1833   StAZH MM 2.10 RRB 1833/0231   \n",
       "\n",
       "                                                      ref  \\\n",
       "469657  https://suche.staatsarchiv.djiktzh.ch/detail.a...   \n",
       "388669  https://suche.staatsarchiv.djiktzh.ch/detail.a...   \n",
       "246290  https://suche.staatsarchiv.djiktzh.ch/detail.a...   \n",
       "375461  https://suche.staatsarchiv.djiktzh.ch/detail.a...   \n",
       "\n",
       "                                                    title  \\\n",
       "469657  Note der preuß. Gesandtschaft betr. angebliche...   \n",
       "388669           Kantonalbank; Benutzung des Amtsblattes.   \n",
       "246290       Universität Zürich-Irchel, zweite Bauetappe.   \n",
       "375461  Bestätiung mehrerer von dem Erziehungsrathe ge...   \n",
       "\n",
       "                                                     text  \\\n",
       "469657  Von den nachstehenden Schreiben ist lediglich ...   \n",
       "388669  Der Regierungsrath hat, in Sachen der Zürcher ...   \n",
       "246290  Mit Kantonsratsbeschluss vom 7. November 1977 ...   \n",
       "375461  Nach Anhörung eines von dem Erziehungsrathe mi...   \n",
       "\n",
       "                            filename  \\\n",
       "469657    MM_2_100_RRB_1848_0476.xml   \n",
       "388669    MM_2_231_RRB_1881_0488.xml   \n",
       "246290  MM_3_172_RRB_1984_2999_t.xml   \n",
       "375461     MM_2_10_RRB_1833_0231.xml   \n",
       "\n",
       "                                                 new_link  \n",
       "469657  https://www.zentraleserien.zh.ch/rrb/MM_2_100_...  \n",
       "388669  https://www.zentraleserien.zh.ch/rrb/MM_2_231_...  \n",
       "246290  https://www.zentraleserien.zh.ch/rrb/MM_3_172_...  \n",
       "375461  https://www.zentraleserien.zh.ch/rrb/MM_2_10_R...  "
      ]
     },
     "execution_count": 7,
     "metadata": {},
     "output_type": "execute_result"
    }
   ],
   "source": [
    "df.sample(4)"
   ]
  },
  {
   "cell_type": "code",
   "execution_count": 8,
   "id": "a40262f7",
   "metadata": {},
   "outputs": [
    {
     "name": "stdout",
     "output_type": "stream",
     "text": [
      "1803-04-25 00:00:00 1995-12-20 00:00:00\n"
     ]
    }
   ],
   "source": [
    "# Fix missing dates: Feature `date_when` is crucial. If this feature is missing, we agreed to fill in with the date from `date_from`.\n",
    "# Fix incomplete dates: More than 100 dates can't be parsed because the day is missing. We therefore add the first day of the time range as the day.\n",
    "# Clean identifiers: Several ident values contain line breaks and multiple spaces. We agredd to remove these programmatically.\n",
    "\n",
    "df = (\n",
    "    df.pipe(fix_missing_dates)\n",
    "    .pipe(fix_incomplete_dates)\n",
    "    .pipe(parse_dates)\n",
    "    .pipe(clean_identifiers)\n",
    ")\n",
    "\n",
    "# Sanity checks.\n",
    "assert df.date_when.isna().sum() == 0\n",
    "tmp = pd.to_datetime(df.date_when, errors=\"coerce\", format=\"%Y-%m-%d\")\n",
    "assert len(tmp[tmp.isna()].index) == 0\n",
    "assert df.ident.str.contains(\"\\n\").sum() == 0\n",
    "print(df.date_when.min(), df.date_when.max())"
   ]
  },
  {
   "cell_type": "code",
   "execution_count": 9,
   "id": "559eea3a-3e71-493f-8bcb-bcf01c2dd71a",
   "metadata": {},
   "outputs": [
    {
     "name": "stdout",
     "output_type": "stream",
     "text": [
      "<class 'pandas.core.frame.DataFrame'>\n",
      "RangeIndex: 479146 entries, 0 to 479145\n",
      "Data columns (total 8 columns):\n",
      " #   Column       Non-Null Count   Dtype         \n",
      "---  ------       --------------   -----         \n",
      " 0   identifier   479146 non-null  object        \n",
      " 1   date         479146 non-null  datetime64[ns]\n",
      " 2   year         479146 non-null  int32         \n",
      " 3   title        479146 non-null  object        \n",
      " 4   text         479146 non-null  object        \n",
      " 5   link         479146 non-null  object        \n",
      " 6   stazh_ident  479146 non-null  object        \n",
      " 7   ref          479146 non-null  object        \n",
      "dtypes: datetime64[ns](1), int32(1), object(6)\n",
      "memory usage: 2.6 GB\n"
     ]
    }
   ],
   "source": [
    "df[\"year\"] = df.date_when.dt.year\n",
    "df[\"identifier\"] = df.index.astype(int)\n",
    "df.identifier = [\"rrb_\" + str(x) for x in df.identifier]\n",
    "df.rename(\n",
    "    {\"new_link\": \"link\"}, axis=1, inplace=True\n",
    ")  # TODO: Rename here (new_link : link)\n",
    "df.rename({\"date_when\": \"date\"}, axis=1, inplace=True)\n",
    "df.rename({\"ident\": \"stazh_ident\"}, axis=1, inplace=True)\n",
    "\n",
    "# Generic text cleaning.\n",
    "df.title = df.title.parallel_map(generic_text_cleaning)\n",
    "df.text = df.text.parallel_map(generic_text_cleaning)\n",
    "\n",
    "# Reduce to relevant columns and save to disk.\n",
    "cols = [\"identifier\", \"date\", \"year\", \"title\", \"text\", \"link\", \"stazh_ident\", \"ref\"]\n",
    "df = df[cols]\n",
    "df.to_parquet(PREP_OUTPUT_RRB)\n",
    "df.info(memory_usage=\"deep\")"
   ]
  }
 ],
 "metadata": {
  "kernelspec": {
   "display_name": "Python 3 (ipykernel)",
   "language": "python",
   "name": "python3"
  },
  "language_info": {
   "codemirror_mode": {
    "name": "ipython",
    "version": 3
   },
   "file_extension": ".py",
   "mimetype": "text/x-python",
   "name": "python",
   "nbconvert_exporter": "python",
   "pygments_lexer": "ipython3",
   "version": "3.9.16"
  }
 },
 "nbformat": 4,
 "nbformat_minor": 5
}
