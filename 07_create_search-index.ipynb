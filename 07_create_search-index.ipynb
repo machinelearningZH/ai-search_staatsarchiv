{
 "cells": [
  {
   "attachments": {},
   "cell_type": "markdown",
   "metadata": {},
   "source": [
    "# Hybrid Search with Weaviate"
   ]
  },
  {
   "cell_type": "markdown",
   "metadata": {},
   "source": [
    "**Imports**"
   ]
  },
  {
   "cell_type": "code",
   "execution_count": null,
   "metadata": {},
   "outputs": [],
   "source": [
    "import pandas as pd\n",
    "from pandarallel import pandarallel\n",
    "import os\n",
    "from dotenv import load_dotenv\n",
    "from sentence_transformers import SentenceTransformer\n",
    "\n",
    "import weaviate\n",
    "from weaviate.classes.config import Property, DataType\n",
    "import weaviate.classes as wvc\n",
    "import weaviate.classes.config as wc\n",
    "\n",
    "pd.options.mode.chained_assignment = None\n",
    "pd.options.display.max_rows = 500\n",
    "pd.options.display.max_seq_items = 500\n",
    "\n",
    "pandarallel.initialize(progress_bar=True)\n",
    "\n",
    "# Suppress Hugginface warning about tokenizers.\n",
    "os.environ[\"TOKENIZERS_PARALLELISM\"] = \"false\""
   ]
  },
  {
   "cell_type": "markdown",
   "metadata": {},
   "source": [
    "**Constants**"
   ]
  },
  {
   "cell_type": "code",
   "execution_count": null,
   "metadata": {},
   "outputs": [],
   "source": [
    "load_dotenv()\n",
    "\n",
    "PREP_OUTPUT_KRP = os.getenv(\"PREP_OUTPUT_KRP\")\n",
    "PREP_OUTPUT_RRB = os.getenv(\"PREP_OUTPUT_RRB\")\n",
    "PREP_OUTPUT_GSZH = os.getenv(\"PREP_OUTPUT_GSZH\")\n",
    "\n",
    "DATA_OUTPUT_FULL = os.getenv(\"DATA_OUTPUT_FULL\")\n",
    "DATA_OUTPUT_CHUNKS = os.getenv(\"DATA_OUTPUT_CHUNKS\")\n",
    "DATA_EMBEDDINGS = os.getenv(\"DATA_EMBEDDINGS\")"
   ]
  },
  {
   "cell_type": "markdown",
   "metadata": {},
   "source": [
    "# Load data"
   ]
  },
  {
   "cell_type": "code",
   "execution_count": null,
   "metadata": {},
   "outputs": [],
   "source": [
    "df = pd.read_parquet(DATA_EMBEDDINGS)\n",
    "df[\"date\"] = pd.to_datetime(df[\"date\"]).dt.tz_localize(\"UTC\")\n",
    "df.drop(columns=[\"word_count\"], inplace=True)\n",
    "df.drop(columns=[\"year\"], inplace=True)\n",
    "df[\"year\"] = df[\"date\"].dt.year"
   ]
  },
  {
   "cell_type": "code",
   "execution_count": null,
   "metadata": {},
   "outputs": [],
   "source": [
    "display(df.info(memory_usage=\"deep\"))\n",
    "df.sample(10).T"
   ]
  },
  {
   "cell_type": "markdown",
   "metadata": {},
   "source": [
    "# Weaviate"
   ]
  },
  {
   "cell_type": "code",
   "execution_count": null,
   "metadata": {},
   "outputs": [],
   "source": [
    "client = weaviate.connect_to_embedded()\n",
    "# Use this code line if Weaviate is already running, e.g. from the Streamlit app.\n",
    "# client = weaviate.connect_to_local(port=8079, grpc_port=50050)"
   ]
  },
  {
   "cell_type": "code",
   "execution_count": null,
   "metadata": {},
   "outputs": [],
   "source": [
    "# Get the meta endpoint description of weaviate.\n",
    "display(client.get_meta())\n",
    "\n",
    "# Ping Weaviate’s live and ready state.\n",
    "print(client.is_live())\n",
    "print(client.is_ready())"
   ]
  },
  {
   "cell_type": "code",
   "execution_count": null,
   "metadata": {},
   "outputs": [],
   "source": [
    "client.collections.create(\n",
    "    \"stazh\",\n",
    "    vectorizer_config=wc.Configure.Vectorizer.none(),\n",
    "    inverted_index_config=wvc.config.Configure.inverted_index(\n",
    "        bm25_b=0.75,\n",
    "        bm25_k1=1.2,\n",
    "        # stopwords_additions=None,\n",
    "        # stopwords_preset=None,\n",
    "        # stopwords_removals=None,\n",
    "    ),\n",
    "    properties=[\n",
    "        Property(name=\"identifier\", data_type=DataType.TEXT),\n",
    "        Property(name=\"date\", data_type=DataType.DATE),\n",
    "        Property(name=\"year\", data_type=DataType.INT),\n",
    "        Property(name=\"title\", data_type=DataType.TEXT),\n",
    "        Property(name=\"link\", data_type=DataType.TEXT),\n",
    "        Property(name=\"stazh_ident\", data_type=DataType.TEXT),\n",
    "        Property(name=\"series\", data_type=DataType.TEXT),\n",
    "        Property(name=\"chunk_text\", data_type=DataType.TEXT),\n",
    "        Property(name=\"ref\", data_type=DataType.TEXT),\n",
    "    ],\n",
    ")"
   ]
  },
  {
   "cell_type": "code",
   "execution_count": null,
   "metadata": {},
   "outputs": [],
   "source": [
    "# List all collections.\n",
    "for v in client.collections.list_all().values():\n",
    "    print(v.name)\n",
    "\n",
    "# Get detailed information about all collections.\n",
    "schema = client.collections.list_all(simple=False)\n",
    "print(schema)"
   ]
  },
  {
   "cell_type": "code",
   "execution_count": null,
   "metadata": {},
   "outputs": [],
   "source": [
    "# # Delete collection\n",
    "# client.collections.delete(\"stazh\")"
   ]
  },
  {
   "cell_type": "code",
   "execution_count": null,
   "metadata": {},
   "outputs": [],
   "source": [
    "# Ingest data\n",
    "collection = client.collections.get(\"stazh\")\n",
    "\n",
    "with collection.batch.dynamic() as batch:\n",
    "    for idx, data in enumerate(df.to_dict(orient=\"records\")):\n",
    "        properties = {\n",
    "            \"identifier\": data[\"identifier\"],\n",
    "            \"date\": data[\"date\"],\n",
    "            \"year\": data[\"year\"],\n",
    "            \"title\": data[\"title\"],\n",
    "            \"link\": data[\"link\"],\n",
    "            \"stazh_ident\": data[\"stazh_ident\"],\n",
    "            \"series\": data[\"series\"],\n",
    "            \"chunk_text\": data[\"chunk_text\"],\n",
    "            \"ref\": data[\"ref\"],\n",
    "        }\n",
    "        batch.add_object(properties=properties, vector=data[\"embeddings\"].tolist())"
   ]
  },
  {
   "cell_type": "code",
   "execution_count": null,
   "metadata": {},
   "outputs": [],
   "source": [
    "# List all items in the collection.\n",
    "collection = client.collections.get(\"stazh\")\n",
    "for item in collection.iterator():\n",
    "    print(item)\n",
    "    break"
   ]
  },
  {
   "cell_type": "code",
   "execution_count": null,
   "metadata": {},
   "outputs": [],
   "source": [
    "# Get total count of all items in the collection.\n",
    "collection = client.collections.get(\"stazh\")\n",
    "response = collection.aggregate.over_all(total_count=True)\n",
    "\n",
    "print(response.total_count)"
   ]
  },
  {
   "cell_type": "markdown",
   "metadata": {},
   "source": [
    "# Lexical search"
   ]
  },
  {
   "cell_type": "code",
   "execution_count": null,
   "metadata": {},
   "outputs": [],
   "source": [
    "collection = client.collections.get(\"stazh\")\n",
    "response = collection.query.bm25(\n",
    "    query=\"Steuerreform\",\n",
    "    # query_properties=[\"title\"], # Define which fields to search over.\n",
    "    offset=0,\n",
    "    limit=100,\n",
    "    auto_limit=4,\n",
    "    return_metadata=wvc.query.MetadataQuery(score=True, distance=True, certainty=True),\n",
    "    # filters=wvc.query.Filter.by_property(\"year\").equal(2012),\n",
    "    #  filters=wvc.query.Filter.by_property(\"year\").less_than(2012),\n",
    "    #  auto_limit=True,\n",
    ")\n",
    "\n",
    "seen = []\n",
    "final_results = []\n",
    "\n",
    "for item in response.objects:\n",
    "    if item.properties[\"identifier\"] in seen:\n",
    "        continue\n",
    "    final_results.append(item.properties[\"title\"])\n",
    "    final_results.append(item.properties[\"series\"])\n",
    "    seen.append(item.properties[\"identifier\"])\n",
    "for elem in final_results:\n",
    "    print(elem)"
   ]
  },
  {
   "cell_type": "markdown",
   "metadata": {},
   "source": [
    "# Vector search"
   ]
  },
  {
   "cell_type": "code",
   "execution_count": null,
   "metadata": {},
   "outputs": [],
   "source": [
    "model_path = \"jinaai/jina-embeddings-v2-base-de\"\n",
    "model = SentenceTransformer(\n",
    "    model_path,\n",
    "    trust_remote_code=True,\n",
    "    device=\"mps\",\n",
    ")\n",
    "model.max_seq_length = 512\n",
    "\n",
    "\n",
    "def embed_query(query):\n",
    "    return model.encode(query, convert_to_tensor=False, normalize_embeddings=True)"
   ]
  },
  {
   "cell_type": "code",
   "execution_count": null,
   "metadata": {},
   "outputs": [],
   "source": [
    "query = \"Steuerreform\"\n",
    "query_embedding = embed_query(query)\n",
    "\n",
    "collection = client.collections.get(\"stazh\")\n",
    "response = collection.query.near_vector(\n",
    "    near_vector=list(query_embedding),\n",
    "    target_vector=\"text\",\n",
    "    limit=20,\n",
    "    auto_limit=3,\n",
    "    return_metadata=wvc.query.MetadataQuery(distance=True),\n",
    ")\n",
    "\n",
    "seen = []\n",
    "final_results = []\n",
    "\n",
    "for item in response.objects:\n",
    "    if item.properties[\"identifier\"] in seen:\n",
    "        continue\n",
    "    final_results.append(item.properties[\"title\"])\n",
    "    final_results.append(item.properties[\"series\"])\n",
    "    seen.append(item.properties[\"identifier\"])\n",
    "for elem in final_results:\n",
    "    print(elem)"
   ]
  },
  {
   "cell_type": "markdown",
   "metadata": {},
   "source": [
    "# Hybrid search"
   ]
  },
  {
   "cell_type": "code",
   "execution_count": null,
   "metadata": {},
   "outputs": [],
   "source": [
    "query = \"Steuerreform\"\n",
    "query_embedding = embed_query(query)\n",
    "\n",
    "collection = client.collections.get(\"stazh\")\n",
    "response = collection.query.hybrid(\n",
    "    query=query,\n",
    "    vector=list(query_embedding),\n",
    "    limit=5,\n",
    "    auto_limit=2,\n",
    "    alpha=0.7,\n",
    "    fusion_type=wvc.query.HybridFusion.RELATIVE_SCORE,\n",
    "    filters=wvc.query.Filter.by_property(\"year\").greater_or_equal(1803)\n",
    "    & wvc.query.Filter.by_property(\"year\").less_or_equal(1995),\n",
    ")\n",
    "\n",
    "seen = []\n",
    "final_results = []\n",
    "\n",
    "for item in response.objects:\n",
    "    if item.properties[\"identifier\"] in seen:\n",
    "        continue\n",
    "    final_results.append(item.properties[\"title\"])\n",
    "    final_results.append(item.properties[\"series\"])\n",
    "    seen.append(item.properties[\"identifier\"])\n",
    "    \n",
    "for elem in final_results:\n",
    "    print(elem)"
   ]
  },
  {
   "cell_type": "markdown",
   "metadata": {},
   "source": [
    "# Search by document"
   ]
  },
  {
   "cell_type": "code",
   "execution_count": null,
   "metadata": {},
   "outputs": [],
   "source": [
    "ident = \"StAZH ABl 1987 (S. 1079)\"\n",
    "\n",
    "collection = client.collections.get(\"stazh\")\n",
    "response = collection.query.fetch_objects(\n",
    "    filters=wvc.query.Filter.by_property(\"stazh_ident\").equal(year)\n",
    ")\n",
    "\n",
    "uuid = response.objects[0].uuid\n",
    "\n",
    "response = collection.query.near_object(near_object=uuid)\n",
    "\n",
    "for item in response.objects:\n",
    "    print(\n",
    "        item.properties[\"title\"],\n",
    "        item.properties[\"year\"],\n",
    "    )"
   ]
  }
 ],
 "metadata": {
  "kernelspec": {
   "display_name": "Python 3 (ipykernel)",
   "language": "python",
   "name": "python3"
  },
  "language_info": {
   "codemirror_mode": {
    "name": "ipython",
    "version": 3
   },
   "file_extension": ".py",
   "mimetype": "text/x-python",
   "name": "python",
   "nbconvert_exporter": "python",
   "pygments_lexer": "ipython3",
   "version": "3.9.19"
  }
 },
 "nbformat": 4,
 "nbformat_minor": 4
}
