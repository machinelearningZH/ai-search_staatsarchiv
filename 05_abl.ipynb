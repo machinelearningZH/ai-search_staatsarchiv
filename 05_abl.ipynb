{
 "cells": [
  {
   "attachments": {},
   "cell_type": "markdown",
   "id": "41943a86-fc7e-48be-a6a8-4af53bad81b6",
   "metadata": {},
   "source": [
    "# Process Amtsblatt"
   ]
  },
  {
   "attachments": {},
   "cell_type": "markdown",
   "id": "eefc59fe-95a2-4855-a991-6eb9887c14f6",
   "metadata": {
    "tags": []
   },
   "source": [
    "**Imports**"
   ]
  },
  {
   "cell_type": "code",
   "execution_count": 2,
   "id": "9d89a2f2-4416-437d-870e-85276708232d",
   "metadata": {},
   "outputs": [
    {
     "name": "stdout",
     "output_type": "stream",
     "text": [
      "INFO: Pandarallel will run on 8 workers.\n",
      "INFO: Pandarallel will use standard multiprocessing data transfer (pipe) to transfer data between the main process and workers.\n"
     ]
    }
   ],
   "source": [
    "import os\n",
    "import pandas as pd\n",
    "from pandarallel import pandarallel\n",
    "from dotenv import load_dotenv\n",
    "\n",
    "pd.options.mode.chained_assignment = None\n",
    "pd.options.display.max_rows = 500\n",
    "pd.options.display.max_seq_items = 500\n",
    "pandarallel.initialize(progress_bar=False)"
   ]
  },
  {
   "cell_type": "code",
   "execution_count": 3,
   "id": "89f05451",
   "metadata": {},
   "outputs": [],
   "source": [
    "from staatsarchiv_utils import read_XML_files\n",
    "from staatsarchiv_utils import parse_XML_files\n",
    "from staatsarchiv_utils import fix_missing_dates\n",
    "from staatsarchiv_utils import add_missing_month_and_day_to_dates\n",
    "from staatsarchiv_utils import parse_dates\n",
    "from staatsarchiv_utils import clean_identifiers\n",
    "from staatsarchiv_utils import generic_text_cleaning"
   ]
  },
  {
   "cell_type": "code",
   "execution_count": 4,
   "id": "976e4bf7",
   "metadata": {},
   "outputs": [],
   "source": [
    "load_dotenv()\n",
    "\n",
    "DATA_INPUT_ABl = os.getenv(\"DATA_INPUT_ABl\")\n",
    "RAW_OUTPUT_ABl = os.getenv(\"RAW_OUTPUT_ABl\")\n",
    "PREP_OUTPUT_ABl = os.getenv(\"PREP_OUTPUT_ABl\")"
   ]
  },
  {
   "attachments": {},
   "cell_type": "markdown",
   "id": "c53fa932-ae76-4509-b339-d8f7e45db481",
   "metadata": {},
   "source": [
    "**Prepare data**"
   ]
  },
  {
   "cell_type": "code",
   "execution_count": 5,
   "id": "50c7bd9b-b770-46e8-8715-f0d760ea6575",
   "metadata": {},
   "outputs": [
    {
     "name": "stdout",
     "output_type": "stream",
     "text": [
      "9,388 files found.\n"
     ]
    },
    {
     "name": "stderr",
     "output_type": "stream",
     "text": [
      "100%|██████████| 9388/9388 [02:02<00:00, 76.74it/s] \n"
     ]
    }
   ],
   "source": [
    "file_paths = read_XML_files(DATA_INPUT_ABl)\n",
    "df = parse_XML_files(file_paths)\n",
    "df.to_parquet(RAW_OUTPUT_ABl)"
   ]
  },
  {
   "cell_type": "code",
   "execution_count": 6,
   "id": "fa40c65c",
   "metadata": {},
   "outputs": [
    {
     "name": "stdout",
     "output_type": "stream",
     "text": [
      "<class 'pandas.core.frame.DataFrame'>\n",
      "RangeIndex: 9388 entries, 0 to 9387\n",
      "Data columns (total 11 columns):\n",
      " #   Column     Non-Null Count  Dtype \n",
      "---  ------     --------------  ----- \n",
      " 0   path       9388 non-null   object\n",
      " 1   date_when  9388 non-null   object\n",
      " 2   date_from  0 non-null      object\n",
      " 3   date_to    0 non-null      object\n",
      " 4   date_text  9388 non-null   object\n",
      " 5   ident      9388 non-null   object\n",
      " 6   ref        9388 non-null   object\n",
      " 7   title      9388 non-null   object\n",
      " 8   text       9388 non-null   object\n",
      " 9   filename   9388 non-null   object\n",
      " 10  new_link   9388 non-null   object\n",
      "dtypes: object(11)\n",
      "memory usage: 87.7 MB\n"
     ]
    }
   ],
   "source": [
    "df = pd.read_parquet(RAW_OUTPUT_ABl)\n",
    "\n",
    "# TODO: Here the correct URL of ZSZH has to be set.\n",
    "link_prolog = \"https://www.zentraleserien.zh.ch/abl/\"\n",
    "df[\"new_link\"] = df.filename.apply(lambda x: link_prolog + x.replace(\".xml\", \"\"))\n",
    "assert df.new_link.nunique() == len(df)\n",
    "\n",
    "df.info(memory_usage=\"deep\")"
   ]
  },
  {
   "cell_type": "code",
   "execution_count": 7,
   "id": "adcbec20",
   "metadata": {},
   "outputs": [
    {
     "data": {
      "text/html": [
       "<div>\n",
       "<style scoped>\n",
       "    .dataframe tbody tr th:only-of-type {\n",
       "        vertical-align: middle;\n",
       "    }\n",
       "\n",
       "    .dataframe tbody tr th {\n",
       "        vertical-align: top;\n",
       "    }\n",
       "\n",
       "    .dataframe thead th {\n",
       "        text-align: right;\n",
       "    }\n",
       "</style>\n",
       "<table border=\"1\" class=\"dataframe\">\n",
       "  <thead>\n",
       "    <tr style=\"text-align: right;\">\n",
       "      <th></th>\n",
       "      <th>2312</th>\n",
       "      <th>5237</th>\n",
       "      <th>4092</th>\n",
       "    </tr>\n",
       "  </thead>\n",
       "  <tbody>\n",
       "    <tr>\n",
       "      <th>path</th>\n",
       "      <td>_01_data-input/ABl/08_XML_Segmentiert_mit_Scop...</td>\n",
       "      <td>_01_data-input/ABl/08_XML_Segmentiert_mit_Scop...</td>\n",
       "      <td>_01_data-input/ABl/08_XML_Segmentiert_mit_Scop...</td>\n",
       "    </tr>\n",
       "    <tr>\n",
       "      <th>date_when</th>\n",
       "      <td>1993-11-05</td>\n",
       "      <td>1985-03-29</td>\n",
       "      <td>1988-02-05</td>\n",
       "    </tr>\n",
       "    <tr>\n",
       "      <th>date_from</th>\n",
       "      <td>None</td>\n",
       "      <td>None</td>\n",
       "      <td>None</td>\n",
       "    </tr>\n",
       "    <tr>\n",
       "      <th>date_to</th>\n",
       "      <td>None</td>\n",
       "      <td>None</td>\n",
       "      <td>None</td>\n",
       "    </tr>\n",
       "    <tr>\n",
       "      <th>date_text</th>\n",
       "      <td>05.11.1993</td>\n",
       "      <td>29.03.1985</td>\n",
       "      <td>05.02.1988</td>\n",
       "    </tr>\n",
       "    <tr>\n",
       "      <th>ident</th>\n",
       "      <td>StAZH ABl 1993 (S. 1547-1556)</td>\n",
       "      <td>StAZH ABl 1985 (S. 570-573)</td>\n",
       "      <td>StAZH ABl 1988 (S. 300-301)</td>\n",
       "    </tr>\n",
       "    <tr>\n",
       "      <th>ref</th>\n",
       "      <td>https://suche.staatsarchiv.djiktzh.ch/detail.a...</td>\n",
       "      <td>https://suche.staatsarchiv.djiktzh.ch/detail.a...</td>\n",
       "      <td>https://suche.staatsarchiv.djiktzh.ch/detail.a...</td>\n",
       "    </tr>\n",
       "    <tr>\n",
       "      <th>title</th>\n",
       "      <td>DER KANTONSRAT DES EIDGENÖSSISCHEN\\n          ...</td>\n",
       "      <td>2669 Bericht und Antrag des\\n            Regie...</td>\n",
       "      <td>[Aus den Verhandlungen des Regierungsrates] vo...</td>\n",
       "    </tr>\n",
       "    <tr>\n",
       "      <th>text</th>\n",
       "      <td>\\nVerhandlungsgegenstände\\n\\t\\t\\t\\t\\n\\n\\n1.\\n\\...</td>\n",
       "      <td>\\nDer Kantonsrat hat am 5. Dezember\\n         ...</td>\n",
       "      <td>\\nDer Regierungsrat unterbreitet dem Kantonsra...</td>\n",
       "    </tr>\n",
       "    <tr>\n",
       "      <th>filename</th>\n",
       "      <td>ABl_1993__S__1547-1556_.xml</td>\n",
       "      <td>ABl_1985__S__570-573_.xml</td>\n",
       "      <td>ABl_1988__S__300-301_.xml</td>\n",
       "    </tr>\n",
       "    <tr>\n",
       "      <th>new_link</th>\n",
       "      <td>https://www.zentraleserien.zh.ch/abl/ABl_1993_...</td>\n",
       "      <td>https://www.zentraleserien.zh.ch/abl/ABl_1985_...</td>\n",
       "      <td>https://www.zentraleserien.zh.ch/abl/ABl_1988_...</td>\n",
       "    </tr>\n",
       "  </tbody>\n",
       "</table>\n",
       "</div>"
      ],
      "text/plain": [
       "                                                        2312  \\\n",
       "path       _01_data-input/ABl/08_XML_Segmentiert_mit_Scop...   \n",
       "date_when                                         1993-11-05   \n",
       "date_from                                               None   \n",
       "date_to                                                 None   \n",
       "date_text                                         05.11.1993   \n",
       "ident                          StAZH ABl 1993 (S. 1547-1556)   \n",
       "ref        https://suche.staatsarchiv.djiktzh.ch/detail.a...   \n",
       "title      DER KANTONSRAT DES EIDGENÖSSISCHEN\\n          ...   \n",
       "text       \\nVerhandlungsgegenstände\\n\\t\\t\\t\\t\\n\\n\\n1.\\n\\...   \n",
       "filename                         ABl_1993__S__1547-1556_.xml   \n",
       "new_link   https://www.zentraleserien.zh.ch/abl/ABl_1993_...   \n",
       "\n",
       "                                                        5237  \\\n",
       "path       _01_data-input/ABl/08_XML_Segmentiert_mit_Scop...   \n",
       "date_when                                         1985-03-29   \n",
       "date_from                                               None   \n",
       "date_to                                                 None   \n",
       "date_text                                         29.03.1985   \n",
       "ident                            StAZH ABl 1985 (S. 570-573)   \n",
       "ref        https://suche.staatsarchiv.djiktzh.ch/detail.a...   \n",
       "title      2669 Bericht und Antrag des\\n            Regie...   \n",
       "text       \\nDer Kantonsrat hat am 5. Dezember\\n         ...   \n",
       "filename                           ABl_1985__S__570-573_.xml   \n",
       "new_link   https://www.zentraleserien.zh.ch/abl/ABl_1985_...   \n",
       "\n",
       "                                                        4092  \n",
       "path       _01_data-input/ABl/08_XML_Segmentiert_mit_Scop...  \n",
       "date_when                                         1988-02-05  \n",
       "date_from                                               None  \n",
       "date_to                                                 None  \n",
       "date_text                                         05.02.1988  \n",
       "ident                            StAZH ABl 1988 (S. 300-301)  \n",
       "ref        https://suche.staatsarchiv.djiktzh.ch/detail.a...  \n",
       "title      [Aus den Verhandlungen des Regierungsrates] vo...  \n",
       "text       \\nDer Regierungsrat unterbreitet dem Kantonsra...  \n",
       "filename                           ABl_1988__S__300-301_.xml  \n",
       "new_link   https://www.zentraleserien.zh.ch/abl/ABl_1988_...  "
      ]
     },
     "execution_count": 7,
     "metadata": {},
     "output_type": "execute_result"
    }
   ],
   "source": [
    "df.sample(3).T"
   ]
  },
  {
   "cell_type": "code",
   "execution_count": 8,
   "id": "521c1aaf",
   "metadata": {},
   "outputs": [
    {
     "name": "stdout",
     "output_type": "stream",
     "text": [
      "1980-01-11 00:00:00 2001-12-21 00:00:00\n"
     ]
    }
   ],
   "source": [
    "# Fix missing dates: Feature `date_when` is crucial. If this feature is missing, we agreed to fill in with the date from `date_from`.\n",
    "# Add missing month and day to dates: Some dates are missing the month and day.\n",
    "# Clean identifiers: Several ident values contain line breaks and multiple spaces. We agredd to remove these programmatically.\n",
    "\n",
    "df = (\n",
    "    df.pipe(fix_missing_dates)\n",
    "    .pipe(add_missing_month_and_day_to_dates)\n",
    "    .pipe(parse_dates)\n",
    "    .pipe(clean_identifiers)\n",
    "    .assign(year=df.date_when.dt.year)\n",
    "    .assign(identifier=df.index.astype(int))\n",
    "    .rename({\"new_link\": \"link\"}, axis=1)  # TODO: Rename here (new_link : link)\n",
    "    .rename({\"date_when\": \"date\"}, axis=1)\n",
    "    .rename({\"ident\": \"stazh_ident\"}, axis=1)\n",
    ")\n",
    "\n",
    "# Sanity checks.\n",
    "assert df.date.isna().sum() == 0\n",
    "tmp = pd.to_datetime(df.date, errors=\"coerce\", format=\"%Y-%m-%d\")\n",
    "assert len(tmp[tmp.isna()].index) == 0\n",
    "assert df.stazh_ident.str.contains(\"\\n\").sum() == 0\n",
    "assert df.identifier.nunique() == len(df)\n",
    "print(df.date.min(), df.date.max())"
   ]
  },
  {
   "cell_type": "code",
   "execution_count": 9,
   "id": "f9e00ecc",
   "metadata": {},
   "outputs": [
    {
     "name": "stdout",
     "output_type": "stream",
     "text": [
      "<class 'pandas.core.frame.DataFrame'>\n",
      "RangeIndex: 9388 entries, 0 to 9387\n",
      "Data columns (total 8 columns):\n",
      " #   Column       Non-Null Count  Dtype         \n",
      "---  ------       --------------  -----         \n",
      " 0   identifier   9388 non-null   object        \n",
      " 1   date         9388 non-null   datetime64[ns]\n",
      " 2   year         9388 non-null   int32         \n",
      " 3   title        9388 non-null   object        \n",
      " 4   text         9388 non-null   object        \n",
      " 5   link         9388 non-null   object        \n",
      " 6   stazh_ident  9388 non-null   object        \n",
      " 7   ref          9388 non-null   object        \n",
      "dtypes: datetime64[ns](1), int32(1), object(6)\n",
      "memory usage: 133.4 MB\n"
     ]
    }
   ],
   "source": [
    "df.identifier = [\"abl_\" + str(x) for x in df.identifier]\n",
    "\n",
    "# Generic text cleaning.\n",
    "df.title = df.title.parallel_map(generic_text_cleaning)\n",
    "df.text = df.text.parallel_map(generic_text_cleaning)\n",
    "\n",
    "# Reduce to relevant columns and save to disk.\n",
    "cols = [\"identifier\", \"date\", \"year\", \"title\", \"text\", \"link\", \"stazh_ident\", \"ref\"]\n",
    "df = df[cols]\n",
    "df.to_parquet(PREP_OUTPUT_ABl)\n",
    "df.info(memory_usage=\"deep\")"
   ]
  }
 ],
 "metadata": {
  "kernelspec": {
   "display_name": "Python 3 (ipykernel)",
   "language": "python",
   "name": "python3"
  },
  "language_info": {
   "codemirror_mode": {
    "name": "ipython",
    "version": 3
   },
   "file_extension": ".py",
   "mimetype": "text/x-python",
   "name": "python",
   "nbconvert_exporter": "python",
   "pygments_lexer": "ipython3",
   "version": "3.9.16"
  }
 },
 "nbformat": 4,
 "nbformat_minor": 5
}
